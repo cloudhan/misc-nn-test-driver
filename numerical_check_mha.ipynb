{
 "cells": [
  {
   "cell_type": "code",
   "execution_count": null,
   "metadata": {},
   "outputs": [],
   "source": [
    "import os, sys\n",
    "\n",
    "if not 'workbookDir' in globals():\n",
    "    workbookDir = os.getcwd()\n",
    "\n",
    "to_remove = []\n",
    "d_to_remove = workbookDir\n",
    "for i, p in enumerate(sys.path):\n",
    "    try:\n",
    "        if p == \"\":\n",
    "            to_remove.append(i)\n",
    "        elif os.path.samefile(p, d_to_remove):\n",
    "            to_remove.append(i)\n",
    "    except:\n",
    "        pass\n",
    "\n",
    "for i in reversed(to_remove):\n",
    "    try:\n",
    "        sys.path.pop(i)\n",
    "    except:\n",
    "        pass\n",
    "\n",
    "sys.path.insert(0, os.path.expanduser(\"~/onnxruntime/build_rocm/Release/build/lib\"))"
   ]
  },
  {
   "cell_type": "code",
   "execution_count": null,
   "metadata": {},
   "outputs": [],
   "source": [
    "import onnxruntime as ort\n",
    "import onnx\n",
    "import numpy as np\n",
    "import matplotlib.pyplot as plt\n",
    "\n",
    "ort.set_default_logger_severity(0)\n",
    "ort.set_default_logger_verbosity(1000)"
   ]
  },
  {
   "cell_type": "code",
   "execution_count": null,
   "metadata": {},
   "outputs": [],
   "source": [
    "def multinormal_distribution(num_distribution, num_element_per_dist):\n",
    "    arrays = []\n",
    "    for i in range(num_distribution):\n",
    "        mean = np.random.randn()\n",
    "        std = np.random.rand() # * np.sqrt(num_element_per_dist)\n",
    "        arrays.append(np.random.normal(mean, std, (num_element_per_dist,)))\n",
    "    return np.array(arrays)"
   ]
  },
  {
   "cell_type": "code",
   "execution_count": null,
   "metadata": {},
   "outputs": [],
   "source": [
    "pack_kv = False\n",
    "pack_qkv = True\n",
    "assert int(pack_kv) + int(pack_qkv) == 1\n",
    "\n",
    "B,S,N,H = 2,64,8,160\n",
    "\n",
    "# B,S,N,H = 1,2,1,8\n",
    "\n",
    "\n",
    "np.random.seed(1)\n",
    "qkv = multinormal_distribution(B * S * N * 3, H).reshape(B, S, N, 3, H)\n",
    "\n",
    "q_data = qkv[:, :, :, 0, :].reshape(B, S, N*H).astype(np.float16)\n",
    "kv_data = qkv[:, :, :, 1:, :].astype(np.float16)\n",
    "qkv_data = qkv.astype(np.float16)\n",
    "\n",
    "q = onnx.helper.make_tensor_value_info(\"q\", onnx.TensorProto.FLOAT16, [\"batchsize\", S, N*H])\n",
    "kv = onnx.helper.make_tensor_value_info(\"kv\", onnx.TensorProto.FLOAT16, [\"batchsize\", S, N, 2, H])\n",
    "qkv = onnx.helper.make_tensor_value_info(\"qkv\", onnx.TensorProto.FLOAT16, [\"batchsize\", S, N, 3, H])\n",
    "\n",
    "output = onnx.helper.make_tensor_value_info(\"output\", onnx.TensorProto.FLOAT16, [\"batchsize\", S, N*H])\n",
    "\n",
    "node_inputs = [\"q\", \"kv\"] if pack_kv else [\"qkv\"]\n",
    "node = onnx.helper.make_node(\"MultiHeadAttention\", inputs=node_inputs, outputs=[\"output\"], domain=\"com.microsoft\", num_heads=N)\n",
    "\n",
    "\n",
    "graph_inputs = [q, kv] if pack_kv else [qkv]\n",
    "graph = onnx.helper.make_graph([node], \"Attn\", graph_inputs, [output])\n",
    "\n",
    "model = onnx.helper.make_model(graph, producer_name=\"tmp\", opset_imports=[\n",
    "    onnx.helper.make_opsetid('com.microsoft', 1), \n",
    "    onnx.helper.make_opsetid('ai.onnx.ml', 1), \n",
    "    onnx.helper.make_opsetid('', 14),\n",
    "])\n",
    "\n",
    "print(onnx.checker.check_model(model))"
   ]
  },
  {
   "cell_type": "code",
   "execution_count": null,
   "metadata": {},
   "outputs": [],
   "source": [
    "so = ort.SessionOptions()\n",
    "so.log_severity_level = 0\n",
    "so.log_verbosity_level = 1000\n",
    "\n",
    "sess = ort.InferenceSession(\n",
    "    model.SerializeToString(),\n",
    "    providers=[(\"ROCMExecutionProvider\", {\"tunable_op_enabled\": \"1\"})],\n",
    "    sess_options=so,\n",
    ")"
   ]
  },
  {
   "cell_type": "code",
   "execution_count": null,
   "metadata": {},
   "outputs": [],
   "source": [
    "input_feed = {\"q\": q_data, \"kv\": kv_data} if pack_kv else {\"qkv\": qkv_data}"
   ]
  },
  {
   "cell_type": "code",
   "execution_count": null,
   "metadata": {},
   "outputs": [],
   "source": [
    "our = sess.run(\n",
    "    output_names = [node.name for node in sess.get_outputs()],\n",
    "    input_feed = input_feed\n",
    ")[0]"
   ]
  },
  {
   "cell_type": "code",
   "execution_count": null,
   "metadata": {},
   "outputs": [],
   "source": [
    "qkv_data.shape"
   ]
  },
  {
   "cell_type": "code",
   "execution_count": null,
   "metadata": {},
   "outputs": [],
   "source": [
    "import scipy\n",
    "\n",
    "def ref_impl(qkv):\n",
    "    Q = np.swapaxes(qkv[:, :, :, 0, :], 2, 1)\n",
    "    K = np.swapaxes(qkv[:, :, :, 1, :], 2, 1)\n",
    "    V = np.swapaxes(qkv[:, :, :, 2, :], 2, 1)\n",
    "\n",
    "    pre_softmax_attn_scores = Q @ np.swapaxes(K, 2, 3)\n",
    "    scale = 1.0/np.sqrt(H)\n",
    "    pre_softmax_attn_scores = pre_softmax_attn_scores * scale\n",
    "\n",
    "    attn_scores = scipy.special.softmax(pre_softmax_attn_scores, axis=-1)\n",
    "    attn = attn_scores @ V\n",
    "    attn = np.swapaxes(attn, 2, 1)  # permute 0213\n",
    "    return np.reshape(attn, attn.shape[:2] + (-1,))\n",
    "    "
   ]
  },
  {
   "cell_type": "code",
   "execution_count": null,
   "metadata": {},
   "outputs": [],
   "source": [
    "ref = ref_impl(qkv_data)"
   ]
  },
  {
   "cell_type": "code",
   "execution_count": null,
   "metadata": {},
   "outputs": [],
   "source": [
    "print(ref.shape)\n",
    "print(our.shape)"
   ]
  },
  {
   "cell_type": "code",
   "execution_count": null,
   "metadata": {},
   "outputs": [],
   "source": [
    "diff = ref - our"
   ]
  },
  {
   "cell_type": "code",
   "execution_count": null,
   "metadata": {},
   "outputs": [],
   "source": [
    "diff.shape"
   ]
  },
  {
   "cell_type": "code",
   "execution_count": null,
   "metadata": {},
   "outputs": [],
   "source": [
    "diff"
   ]
  },
  {
   "cell_type": "code",
   "execution_count": null,
   "metadata": {},
   "outputs": [],
   "source": [
    "i = 0"
   ]
  },
  {
   "cell_type": "code",
   "execution_count": null,
   "metadata": {},
   "outputs": [],
   "source": [
    "ref[i]"
   ]
  },
  {
   "cell_type": "code",
   "execution_count": null,
   "metadata": {},
   "outputs": [],
   "source": [
    "our[i]"
   ]
  },
  {
   "cell_type": "code",
   "execution_count": null,
   "metadata": {},
   "outputs": [],
   "source": [
    "plt.imshow(our[i])"
   ]
  },
  {
   "cell_type": "code",
   "execution_count": null,
   "metadata": {},
   "outputs": [],
   "source": [
    "plt.figure()\n",
    "plt.plot(ref[i][2])\n",
    "plt.plot(our[i][2])"
   ]
  },
  {
   "cell_type": "code",
   "execution_count": null,
   "metadata": {},
   "outputs": [],
   "source": [
    "np.isnan(our).sum()"
   ]
  },
  {
   "cell_type": "code",
   "execution_count": null,
   "metadata": {},
   "outputs": [],
   "source": [
    "np.isnan(ref).sum()"
   ]
  },
  {
   "cell_type": "code",
   "execution_count": null,
   "metadata": {},
   "outputs": [],
   "source": [
    "denorm = ref.copy()\n",
    "denorm[denorm == 0] = float(\"inf\")\n",
    "rtol = np.abs(diff / denorm)"
   ]
  },
  {
   "cell_type": "code",
   "execution_count": null,
   "metadata": {},
   "outputs": [],
   "source": [
    "import matplotlib.pyplot as plt"
   ]
  },
  {
   "cell_type": "code",
   "execution_count": null,
   "metadata": {},
   "outputs": [],
   "source": [
    "rtol_1d = rtol.reshape(-1)\n",
    "\n",
    "print(np.sum(rtol_1d < 1))\n",
    "print(np.sum(rtol_1d >= 1))\n",
    "\n",
    "_ = plt.hist(rtol_1d[np.isfinite(rtol_1d)], bins=500, log=True)"
   ]
  },
  {
   "cell_type": "code",
   "execution_count": null,
   "metadata": {},
   "outputs": [],
   "source": [
    "num_topk = 1000\n",
    "indices = np.unravel_index(np.argsort(rtol.reshape(-1))[-num_topk:], rtol.shape)\n",
    "print(\"{:<20} {:<16.8} {:<20.8} {:<20.8}\".format(\"index\", \"rtol\", \"ref\", \"our\"))\n",
    "for i in reversed(range(num_topk)):\n",
    "    idx = (indices[0][i], indices[1][i], indices[2][i])\n",
    "    print(f\"{str(idx):<20} {rtol[idx]:<16.8} {ref[idx]:<20.8} {our[idx]:<20.8}\")"
   ]
  },
  {
   "cell_type": "code",
   "execution_count": null,
   "metadata": {},
   "outputs": [],
   "source": []
  }
 ],
 "metadata": {
  "kernelspec": {
   "display_name": "base",
   "language": "python",
   "name": "python3"
  },
  "language_info": {
   "codemirror_mode": {
    "name": "ipython",
    "version": 3
   },
   "file_extension": ".py",
   "mimetype": "text/x-python",
   "name": "python",
   "nbconvert_exporter": "python",
   "pygments_lexer": "ipython3"
  }
 },
 "nbformat": 4,
 "nbformat_minor": 2
}
